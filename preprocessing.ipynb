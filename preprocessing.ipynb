{
 "cells": [
  {
   "cell_type": "code",
   "execution_count": null,
   "metadata": {
    "ExecuteTime": {
     "end_time": "2022-10-04T12:28:10.188441Z",
     "start_time": "2022-10-04T12:28:06.796296Z"
    }
   },
   "outputs": [],
   "source": [
    "import matplotlib.pyplot as plt\n",
    "import pandas as pd\n",
    "import seaborn as sns"
   ]
  },
  {
   "cell_type": "markdown",
   "metadata": {},
   "source": [
    "# Extração do arquivo `.zip`"
   ]
  },
  {
   "cell_type": "code",
   "execution_count": null,
   "metadata": {
    "ExecuteTime": {
     "end_time": "2022-10-04T12:28:10.219504Z",
     "start_time": "2022-10-04T12:28:10.193510Z"
    }
   },
   "outputs": [],
   "source": [
    "import zipfile\n",
    "import os\n",
    "\n",
    "pathfile = \"datasets\"\n",
    "filename = os.path.join(pathfile, \"fetal_health.zip\")\n",
    "with zipfile.ZipFile(filename, 'r') as zip_ref:\n",
    "    zip_ref.extractall(pathfile)"
   ]
  },
  {
   "cell_type": "markdown",
   "metadata": {},
   "source": [
    "# Carregar dataset"
   ]
  },
  {
   "cell_type": "code",
   "execution_count": null,
   "metadata": {
    "ExecuteTime": {
     "end_time": "2022-10-04T12:28:10.250266Z",
     "start_time": "2022-10-04T12:28:10.222505Z"
    }
   },
   "outputs": [],
   "source": [
    "fetal_health = pd.read_csv(os.path.join(pathfile, \"fetal_health.csv\"))\n",
    "fetal_health.shape"
   ]
  },
  {
   "cell_type": "code",
   "execution_count": null,
   "metadata": {
    "ExecuteTime": {
     "end_time": "2022-10-04T12:28:10.343304Z",
     "start_time": "2022-10-04T12:28:10.252995Z"
    }
   },
   "outputs": [],
   "source": [
    "fetal_health.describe()"
   ]
  },
  {
   "cell_type": "code",
   "execution_count": null,
   "metadata": {
    "ExecuteTime": {
     "end_time": "2022-10-04T12:28:10.373784Z",
     "start_time": "2022-10-04T12:28:10.345176Z"
    }
   },
   "outputs": [],
   "source": [
    "fetal_health.info()"
   ]
  },
  {
   "cell_type": "code",
   "execution_count": null,
   "metadata": {
    "ExecuteTime": {
     "end_time": "2022-10-04T12:28:10.404236Z",
     "start_time": "2022-10-04T12:28:10.379282Z"
    }
   },
   "outputs": [],
   "source": [
    "fetal_health.isna().sum()"
   ]
  },
  {
   "cell_type": "code",
   "execution_count": null,
   "metadata": {
    "ExecuteTime": {
     "end_time": "2022-10-04T12:28:10.949369Z",
     "start_time": "2022-10-04T12:28:10.410986Z"
    }
   },
   "outputs": [],
   "source": [
    "sns.heatmap(fetal_health.corr())\n",
    "plt.show()"
   ]
  },
  {
   "cell_type": "code",
   "execution_count": 8,
   "metadata": {
    "ExecuteTime": {
     "end_time": "2022-10-04T12:28:10.980359Z",
     "start_time": "2022-10-04T12:28:10.951369Z"
    }
   },
   "outputs": [
    {
     "data": {
      "text/plain": [
       "1.0    0.778457\n",
       "2.0    0.138758\n",
       "3.0    0.082785\n",
       "Name: fetal_health, dtype: float64"
      ]
     },
     "execution_count": 8,
     "metadata": {},
     "output_type": "execute_result"
    }
   ],
   "source": [
    "fetal_health.fetal_health.value_counts(normalize=True)"
   ]
  },
  {
   "cell_type": "markdown",
   "metadata": {},
   "source": [
    "# Separação do dataset em treino e teste"
   ]
  },
  {
   "cell_type": "code",
   "execution_count": 9,
   "metadata": {
    "ExecuteTime": {
     "end_time": "2022-10-04T12:28:10.996633Z",
     "start_time": "2022-10-04T12:28:10.982354Z"
    }
   },
   "outputs": [],
   "source": [
    "fetal_health.drop_duplicates(inplace=True)"
   ]
  },
  {
   "cell_type": "code",
   "execution_count": 10,
   "metadata": {
    "ExecuteTime": {
     "end_time": "2022-10-04T12:28:11.011658Z",
     "start_time": "2022-10-04T12:28:11.001143Z"
    }
   },
   "outputs": [],
   "source": [
    "X = fetal_health.drop(columns=\"fetal_health\")\n",
    "y = fetal_health.fetal_health"
   ]
  },
  {
   "cell_type": "code",
   "execution_count": 11,
   "metadata": {
    "ExecuteTime": {
     "end_time": "2022-10-04T12:28:11.321499Z",
     "start_time": "2022-10-04T12:28:11.013650Z"
    }
   },
   "outputs": [],
   "source": [
    "from sklearn.model_selection import train_test_split\n",
    "\n",
    "X_train, X_test, y_train, y_test = train_test_split(\n",
    "    X, y, test_size=0.2, random_state=42, stratify=y\n",
    ")"
   ]
  },
  {
   "cell_type": "code",
   "execution_count": 12,
   "metadata": {
    "ExecuteTime": {
     "end_time": "2022-10-04T12:28:11.336444Z",
     "start_time": "2022-10-04T12:28:11.323491Z"
    }
   },
   "outputs": [],
   "source": [
    "# datasets = (\n",
    "#     (\"X_train\", X_train),\n",
    "#     (\"X_test\", X_test),\n",
    "#     (\"y_train\", y_train),\n",
    "#     (\"y_test\", y_test),\n",
    "# )\n",
    "\n",
    "# for name, dataset in datasets:\n",
    "#     filename = os.path.join(pathfile, f\"fetal_health_{name}.csv\")\n",
    "#     dataset.to_csv(filename)"
   ]
  },
  {
   "cell_type": "markdown",
   "metadata": {},
   "source": [
    "# Função para exibir relatório"
   ]
  },
  {
   "cell_type": "code",
   "execution_count": null,
   "metadata": {},
   "cell_type": "code",
   "execution_count": 14,
   "metadata": {
    "ExecuteTime": {
     "end_time": "2022-10-04T12:28:41.848346Z",
     "start_time": "2022-10-04T12:28:41.827230Z"
    }
   },
   "outputs": [],
   "source": [
    "import matplotlib.pyplot as plt\n",
    "from sklearn.metrics import classification_report, ConfusionMatrixDisplay\n",
    "\n",
    "\n",
    "def print_report(model, X, y, normalize=None):\n",
    "    \"\"\"Print the classification report and the confution matrix\n",
    "\n",
    "    model: algorithm after train\n",
    "    \n",
    "    X : features\n",
    "\n",
    "    y : target\n",
    "\n",
    "    normalize : {'true', 'pred', 'all'}, default=None\n",
    "            Either to normalize the counts display in the matrix\n",
    "    \"\"\"\n",
    "    y_pred = model.predict(X)\n",
    "    print(classification_report(y, y_pred))\n",
    "    ConfusionMatrixDisplay.from_predictions(y, y_pred, normalize=normalize)\n",
    "    plt.show()\n"
   ]
  }
 ],
 "metadata": {
  "kernelspec": {
   "display_name": "Python 3.10.4 ('.venv': venv)",
   "language": "python",
   "name": "python3"
  },
  "language_info": {
   "codemirror_mode": {
    "name": "ipython",
    "version": 3
   },
   "file_extension": ".py",
   "mimetype": "text/x-python",
   "name": "python",
   "nbconvert_exporter": "python",
   "pygments_lexer": "ipython3",
   "version": "3.10.4"
  },
  "vscode": {
   "interpreter": {
    "hash": "ef826ec5ff28d1c49293c67f48c28f1ffca1e9918fc89dee55aa2c0be9119b8f"
   }
  }
 },
 "nbformat": 4,
 "nbformat_minor": 2
}
